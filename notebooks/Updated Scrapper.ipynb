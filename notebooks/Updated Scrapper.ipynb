{
 "cells": [
  {
   "cell_type": "code",
   "execution_count": 1,
   "id": "d599f216",
   "metadata": {},
   "outputs": [],
   "source": [
    "from bs4 import BeautifulSoup\n",
    "import requests\n",
    "import csv\n",
    "from time import sleep\n",
    "from random import randint\n",
    "from datetime import datetime\n",
    "\n",
    "def get_url(position, location):\n",
    "        template = 'https://www.indeed.com/jobs?q={}&l={}'\n",
    "        url = template.format(position, location)\n",
    "        return url\n",
    "\n",
    "def get_record(card):\n",
    "    atag = card.h2.a\n",
    "    job_title = atag.span.get(\"title\")\n",
    "    company = card.find(\"span\", {\"class\": \"companyName\"}).text\n",
    "    job_location = card.find(\"div\", {\"class\": \"companyLocation\"}).text\n",
    "\n",
    "    post_date = card.find(\"span\", \"date\").text\n",
    "    today = datetime.today().strftime(\"%Y-%m-%d\")\n",
    "    job_summary = card.find(\"div\", \"job-snippet\").text\n",
    "    job_url = 'https://www.indeed.com' + card.h2.a.get(\"href\")\n",
    "    \n",
    "    \"\"\"Below part is added to get the full job description\"\"\"\n",
    "    response1 = requests.get(job_url)    \n",
    "    soup1 = BeautifulSoup(response1.text, 'html.parser')\n",
    "\n",
    "    jd = soup1.find('div', 'jobsearch-JobComponent-description icl-u-xs-mt--md')\n",
    "    \n",
    "    try:\n",
    "        full_jd = jd.find(\"div\", \"jobsearch-jobDescriptionText\").text\n",
    "    except AttributeError:\n",
    "        full_jd = ''\n",
    "        \n",
    "\n",
    "    \n",
    "    record = (job_title, company, job_location, post_date, today, job_summary, job_url, full_jd)\n",
    "    return record\n",
    "\n",
    "def main(position, location):\n",
    "    records = []\n",
    "    url = get_url(position, location)\n",
    "    \n",
    "    #while True:       #uncomment this if you want to scrape all the results, it could be slow and take time\n",
    "    for x in range(1): #Just to scrape one page\n",
    "        print(url)\n",
    "        response = requests.get(url)\n",
    "        soup = BeautifulSoup(response.text, 'html.parser')\n",
    "        cards = soup.find_all('div', 'job_seen_beacon')\n",
    "        \n",
    "        \n",
    "    \n",
    "        for card in cards:\n",
    "            record = get_record(card)\n",
    "            records.append(record)\n",
    "    \n",
    "        try:\n",
    "            url = 'https://www.indeed.com' + soup.find('a', {'aria-label': 'Next'}).get('href')\n",
    "        except AttributeError:\n",
    "            break\n",
    "    \n",
    "    with open('full_results_1.csv', 'w', newline='', encoding='utf-8') as f:\n",
    "        writer = csv.writer(f)\n",
    "        writer.writerow(['Job Title', 'Company', 'Location', 'Posting Date', 'Extract Date', 'Summary', 'Job Url', 'Job Description'])\n",
    "        writer.writerows(records)"
   ]
  },
  {
   "cell_type": "code",
   "execution_count": 2,
   "id": "abb121e1",
   "metadata": {},
   "outputs": [
    {
     "name": "stdout",
     "output_type": "stream",
     "text": [
      "https://www.indeed.com/jobs?q=data&l=ca\n"
     ]
    }
   ],
   "source": [
    "main(\"data\", \"ca\")"
   ]
  },
  {
   "cell_type": "code",
   "execution_count": null,
   "id": "331c001f",
   "metadata": {},
   "outputs": [],
   "source": []
  }
 ],
 "metadata": {
  "kernelspec": {
   "display_name": "Python 3 (ipykernel)",
   "language": "python",
   "name": "python3"
  },
  "language_info": {
   "codemirror_mode": {
    "name": "ipython",
    "version": 3
   },
   "file_extension": ".py",
   "mimetype": "text/x-python",
   "name": "python",
   "nbconvert_exporter": "python",
   "pygments_lexer": "ipython3",
   "version": "3.8.12"
  }
 },
 "nbformat": 4,
 "nbformat_minor": 5
}
