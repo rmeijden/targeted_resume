{
  "nbformat": 4,
  "nbformat_minor": 0,
  "metadata": {
    "colab": {
      "name": "GPT & Spacy Test Code.ipynb",
      "provenance": []
    },
    "kernelspec": {
      "name": "python3",
      "display_name": "Python 3"
    },
    "language_info": {
      "name": "python"
    }
  },
  "cells": [
    {
      "cell_type": "markdown",
      "source": [
        "Spacy Code for Keyword extraction"
      ],
      "metadata": {
        "id": "436zf083G22b"
      }
    },
    {
      "cell_type": "code",
      "execution_count": null,
      "metadata": {
        "id": "N1BTQEW7GwC7"
      },
      "outputs": [],
      "source": [
        "import spacy\n",
        "\n",
        "import pytextrank\n",
        "# example text\n",
        "dataset = \"\\n\\n  Do you have a passion for artificial intelligence, machine learning, and data analysis? Do you yearn to have the impact of your work recognized and valued by more than just your development team? Do you constantly wonder what you could build if only you had access to world-class data sets and computing resources?\\n  \\n If yes, we have just the role for you.\\n  \\n In Deloitte's Audit and Assurance business, we make businesses and markets better. An audit is more than an obligation; it is an opportunity to see further and deeper into businesses. In our role as independent auditors, we enhance trust in the companies we audit, helping a multitrillion dollar capital markets system function with greater confidence. As we aspire to the very highest standards of audit quality, we deliver deeper insights that can help clients become more effective organizations.\\n  \\n Deloitte's Audit and Assurance business embraces the promise of artificial intelligence and machine learning, with various forms of AI and ML embedded in the audit technology solutions currently used by our 10,000+ practitioners today. Within our dedicated Data Science organization, a subgroup of our award-winning Audit Transformation group, we continue that journey enabling the next generation of AI-enabled solutions that usher in a future that completely transforms the way our practitioners perform their audit work, and the insights we can provide to our clients.\\n  \\n You will be joining a growing team of talented professionals in a fast-paced yet collaborative startup-like environment dedicated to realizing the Deloitte Audit and Assurance vision of an AI-enabled audit. You will be leveraging the most advanced technologies in machine learning, natural language processing, time-series modeling, and reinforcement learning to lead our business into the future.\\n  \\n As a Junior Data Scientist, you will be supporting the Data Science group and actively participating in all the processes of a data science project, including exploratory data analysis, feature generation and selection, model creation, and model optimization to boost performance and accuracy. It is important that the person in this role is proactive and independent. You should be a problem solver with an open mind and an eagerness to pick up new skills ranging from deeper statistical analysis and better modeling skills to honing programming and communication skills.\\n  \\n Specifically, you will be expected to:\\n  \\n\\n Apply data science practices on your specific assigned workstreams; particularly:\\n    \\n Perform exploratory data analysis to understand relationships and opportunities to influence outcomes\\n Select appropriate machine learning models for tasks, and building and training working versions of those models using Python and other open-source tools\\n Score and explain the performance of models applied to data\\n Develop and document proofs of concept to verify ideas\\n\\n Collaborate daily with Data Science Managers and Data Scientists to receive guidance and feedback on your work to develop your skills and ensure alignment with workstream objectives\\n Be a contributor to the planning and direction of a project and effectively prioritize your tasks and objectives\\n Contribute to internal discussions on emerging machine learning methodologies\\n\\n\\n Qualifications\\n\\n\\nRequired:\\n\\n\\n Undergraduate degree in a quantitative field (computer science, engineering, mathematics, physics, machine learning, statistics)\\n Experience using Python and relevant libraries (NumPy, Pandas, Scikit-learn, etc.)\\n Coursework related to machine learning, deep learning, and programming\\n Hands-on application experience using common machine learning libraries and techniques, including TensorFlow, PyTorch, and big data platforms\\n Demonstrated ability to write high-quality code\\n Demonstrated ability to develop machine learning models\\n Excellent verbal and written communication skills\\n Ability to travel when necessary\\n\\n\\n Preferred:\\n\\n\\n Master's degree in a quantitative field (computer science, engineering, mathematics, physics, machine learning, statistics)\\n Relevant work experience (internships, school jobs, etc.)\\n Familiarity with the Microsoft Azure cloud-based ecosystem, including Azure DevOps\\n Familiarity with machine learning model development life cycles\\n Experience with version control practices and tools (Git, etc.)\\n\\n\\n\"\n",
        "nlp = spacy.load(\"en_core_web_trf\")\n",
        "# add PyTextRank to the spaCy pipeline\n",
        "nlp.add_pipe(\"textrank\")\n",
        "doc = nlp(dataset)\n",
        "# examine the top-ranked phrases in the document\n",
        "for phrase in doc._.phrases[:100]:\n",
        "    print(phrase.text)"
      ]
    },
    {
      "cell_type": "markdown",
      "source": [
        "GPT2 Code for KW extraction"
      ],
      "metadata": {
        "id": "A6uYANBrHI6K"
      }
    },
    {
      "cell_type": "code",
      "source": [
        "from transformers import GPT2LMHeadModel, GPT2Tokenizer\n",
        "tokenizer = GPT2Tokenizer.from_pretrained(\"gpt2\")\n",
        "model = GPT2LMHeadModel.from_pretrained(\"gpt2\")\n",
        "text = \"\\n\\n  Do you have a passion for artificial intelligence, machine learning, and data analysis? Do you yearn to have the impact of your work recognized and valued by more than just your development team? Do you constantly wonder what you could build if only you had access to world-class data sets and computing resources?\\n  \\n If yes, we have just the role for you.\\n  \\n In Deloitte's Audit and Assurance business, we make businesses and markets better. An audit is more than an obligation; it is an opportunity to see further and deeper into businesses. In our role as independent auditors, we enhance trust in the companies we audit, helping a multitrillion dollar capital markets system function with greater confidence. As we aspire to the very highest standards of audit quality, we deliver deeper insights that can help clients become more effective organizations.\\n  \\n Deloitte's Audit and Assurance business embraces the promise of artificial intelligence and machine learning, with various forms of AI and ML embedded in the audit technology solutions currently used by our 10,000+ practitioners today. Within our dedicated Data Science organization, a subgroup of our award-winning Audit Transformation group, we continue that journey enabling the next generation of AI-enabled solutions that usher in a future that completely transforms the way our practitioners perform their audit work, and the insights we can provide to our clients.\\n  \\n You will be joining a growing team of talented professionals in a fast-paced yet collaborative startup-like environment dedicated to realizing the Deloitte Audit and Assurance vision of an AI-enabled audit. You will be leveraging the most advanced technologies in machine learning, natural language processing, time-series modeling, and reinforcement learning to lead our business into the future.\\n  \\n As a Junior Data Scientist, you will be supporting the Data Science group and actively participating in all the processes of a data science project, including exploratory data analysis, feature generation and selection, model creation, and model optimization to boost performance and accuracy. It is important that the person in this role is proactive and independent. You should be a problem solver with an open mind and an eagerness to pick up new skills ranging from deeper statistical analysis and better modeling skills to honing programming and communication skills.\\n  \\n Specifically, you will be expected to:\\n  \\n\\n Apply data science practices on your specific assigned workstreams; particularly:\\n    \\n Perform exploratory data analysis to understand relationships and opportunities to influence outcomes\\n Select appropriate machine learning models for tasks, and building and training working versions of those models using Python and other open-source tools\\n Score and explain the performance of models applied to data\\n Develop and document proofs of concept to verify ideas\\n\\n Collaborate daily with Data Science Managers and Data Scientists to receive guidance and feedback on your work to develop your skills and ensure alignment with workstream objectives\\n Be a contributor to the planning and direction of a project and effectively prioritize your tasks and objectives\\n Contribute to internal discussions on emerging machine learning methodologies\\n\\n\\n Qualifications\\n\\n\\nRequired:\\n\\n\\n Undergraduate degree in a quantitative field (computer science, engineering, mathematics, physics, machine learning, statistics)\\n Experience using Python and relevant libraries (NumPy, Pandas, Scikit-learn, etc.)\\n Coursework related to machine learning, deep learning, and programming\\n Hands-on application experience using common machine learning libraries and techniques, including TensorFlow, PyTorch, and big data platforms\\n Demonstrated ability to write high-quality code\\n Demonstrated ability to develop machine learning models\\n Excellent verbal and written communication skills\\n Ability to travel when necessary\\n\\n\\n Preferred:\\n\\n\\n Master's degree in a quantitative field (computer science, engineering, mathematics, physics, machine learning, statistics)\\n Relevant work experience (internships, school jobs, etc.)\\n Familiarity with the Microsoft Azure cloud-based ecosystem, including Azure DevOps\\n Familiarity with machine learning model development life cycles\\n Experience with version control practices and tools (Git, etc.)\\n\\n\\n\"\n",
        "\n",
        "encoded_input = tokenizer.encode(text, return_tensors='pt')"
      ],
      "metadata": {
        "id": "zfr6-eZ0HCfc"
      },
      "execution_count": null,
      "outputs": []
    },
    {
      "cell_type": "code",
      "source": [
        "output = model.generate(encoded_input, max_length=835,num_beams=5,no_repeat_ngram_size=2,early_stopping=True)\n",
        "output"
      ],
      "metadata": {
        "id": "EzDS7cqcHVM3"
      },
      "execution_count": null,
      "outputs": []
    },
    {
      "cell_type": "code",
      "source": [
        "tokenizer.decode(output[0], skip_special_tokens=True)"
      ],
      "metadata": {
        "id": "rcdyxLa3HXCD"
      },
      "execution_count": null,
      "outputs": []
    }
  ]
}